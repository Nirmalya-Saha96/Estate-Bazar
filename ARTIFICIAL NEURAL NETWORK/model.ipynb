{
  "cells": [
    {
      "cell_type": "code",
      "execution_count": null,
      "metadata": {
        "id": "MxkJoQBkUIHC"
      },
      "outputs": [],
      "source": [
        "import numpy as np\n",
        "import pandas as pd\n",
        "import tensorflow as tf\n",
        "import keras"
      ]
    },
    {
      "cell_type": "code",
      "execution_count": null,
      "metadata": {
        "id": "MXUkhkMfU4wq"
      },
      "outputs": [],
      "source": [
        "dataset = pd.read_csv('HousePrediction.csv')\n",
        "x = dataset.drop(columns=['price'])\n",
        "y = dataset[['price']]"
      ]
    },
    {
      "cell_type": "code",
      "execution_count": null,
      "metadata": {
        "id": "PxVKWXxLbczC"
      },
      "outputs": [],
      "source": [
        "from sklearn.preprocessing import LabelEncoder\n",
        "le = LabelEncoder()\n",
        "x['city'] = le.fit_transform(x['city'])"
      ]
    },
    {
      "cell_type": "code",
      "execution_count": null,
      "metadata": {
        "id": "Z-TDt0Y_XEfc"
      },
      "outputs": [],
      "source": [
        "from sklearn.model_selection import train_test_split\n",
        "X_train, X_test, y_train, y_test = train_test_split(x, y, test_size = 0.2, random_state = 0)"
      ]
    },
    {
      "cell_type": "code",
      "execution_count": null,
      "metadata": {
        "id": "3dtrScHxXQox"
      },
      "outputs": [],
      "source": [
        "ann = keras.models.Sequential()"
      ]
    },
    {
      "cell_type": "code",
      "execution_count": null,
      "metadata": {
        "id": "bppGycBXYCQr"
      },
      "outputs": [],
      "source": [
        "ann.add(keras.layers.Dense(units=6, activation='relu', input_shape=(6,)))"
      ]
    },
    {
      "cell_type": "code",
      "execution_count": null,
      "metadata": {
        "id": "JneR0u0sYRTd"
      },
      "outputs": [],
      "source": [
        "ann.add(keras.layers.Dense(units=6, activation='relu'))"
      ]
    },
    {
      "cell_type": "code",
      "execution_count": null,
      "metadata": {
        "id": "Cn3x41RBYfvY"
      },
      "outputs": [],
      "source": [
        "ann.add(keras.layers.Dense(1))"
      ]
    },
    {
      "cell_type": "code",
      "execution_count": null,
      "metadata": {
        "id": "fG3RrwDXZEaS"
      },
      "outputs": [],
      "source": [
        "ann.compile(optimizer = 'adam', loss = 'mean_squared_error')"
      ]
    },
    {
      "cell_type": "code",
      "execution_count": null,
      "metadata": {
        "colab": {
          "base_uri": "https://localhost:8080/"
        },
        "id": "nHZ-LKv_ZRb3",
        "outputId": "2491af6f-137a-44d0-e217-30d891a70782"
      },
      "outputs": [
        {
          "output_type": "stream",
          "name": "stdout",
          "text": [
            "Epoch 1/100\n",
            "115/115 [==============================] - 1s 2ms/step - loss: 474321158144.0000\n",
            "Epoch 2/100\n",
            "115/115 [==============================] - 0s 2ms/step - loss: 461869383680.0000\n",
            "Epoch 3/100\n",
            "115/115 [==============================] - 0s 2ms/step - loss: 439940972544.0000\n",
            "Epoch 4/100\n",
            "115/115 [==============================] - 0s 2ms/step - loss: 405075820544.0000\n",
            "Epoch 5/100\n",
            "115/115 [==============================] - 0s 2ms/step - loss: 383198396416.0000\n",
            "Epoch 6/100\n",
            "115/115 [==============================] - 0s 2ms/step - loss: 369541382144.0000\n",
            "Epoch 7/100\n",
            "115/115 [==============================] - 0s 2ms/step - loss: 356404297728.0000\n",
            "Epoch 8/100\n",
            "115/115 [==============================] - 0s 2ms/step - loss: 341968453632.0000\n",
            "Epoch 9/100\n",
            "115/115 [==============================] - 0s 2ms/step - loss: 327029260288.0000\n",
            "Epoch 10/100\n",
            "115/115 [==============================] - 0s 2ms/step - loss: 311658086400.0000\n",
            "Epoch 11/100\n",
            "115/115 [==============================] - 0s 2ms/step - loss: 296018247680.0000\n",
            "Epoch 12/100\n",
            "115/115 [==============================] - 0s 2ms/step - loss: 280037163008.0000\n",
            "Epoch 13/100\n",
            "115/115 [==============================] - 0s 2ms/step - loss: 263554891776.0000\n",
            "Epoch 14/100\n",
            "115/115 [==============================] - 0s 2ms/step - loss: 247393599488.0000\n",
            "Epoch 15/100\n",
            "115/115 [==============================] - 0s 2ms/step - loss: 231749058560.0000\n",
            "Epoch 16/100\n",
            "115/115 [==============================] - 0s 2ms/step - loss: 216558665728.0000\n",
            "Epoch 17/100\n",
            "115/115 [==============================] - 0s 2ms/step - loss: 202577297408.0000\n",
            "Epoch 18/100\n",
            "115/115 [==============================] - 0s 2ms/step - loss: 189605593088.0000\n",
            "Epoch 19/100\n",
            "115/115 [==============================] - 0s 1ms/step - loss: 177892655104.0000\n",
            "Epoch 20/100\n",
            "115/115 [==============================] - 0s 2ms/step - loss: 167928201216.0000\n",
            "Epoch 21/100\n",
            "115/115 [==============================] - 0s 2ms/step - loss: 159545376768.0000\n",
            "Epoch 22/100\n",
            "115/115 [==============================] - 0s 2ms/step - loss: 152605327360.0000\n",
            "Epoch 23/100\n",
            "115/115 [==============================] - 0s 2ms/step - loss: 147121586176.0000\n",
            "Epoch 24/100\n",
            "115/115 [==============================] - 0s 2ms/step - loss: 142731198464.0000\n",
            "Epoch 25/100\n",
            "115/115 [==============================] - 0s 2ms/step - loss: 139463000064.0000\n",
            "Epoch 26/100\n",
            "115/115 [==============================] - 0s 2ms/step - loss: 136850636800.0000\n",
            "Epoch 27/100\n",
            "115/115 [==============================] - 0s 2ms/step - loss: 135070703616.0000\n",
            "Epoch 28/100\n",
            "115/115 [==============================] - 0s 2ms/step - loss: 133605539840.0000\n",
            "Epoch 29/100\n",
            "115/115 [==============================] - 0s 2ms/step - loss: 132568170496.0000\n",
            "Epoch 30/100\n",
            "115/115 [==============================] - 0s 2ms/step - loss: 131762348032.0000\n",
            "Epoch 31/100\n",
            "115/115 [==============================] - 0s 2ms/step - loss: 131183001600.0000\n",
            "Epoch 32/100\n",
            "115/115 [==============================] - 0s 2ms/step - loss: 130675400704.0000\n",
            "Epoch 33/100\n",
            "115/115 [==============================] - 0s 2ms/step - loss: 130258075648.0000\n",
            "Epoch 34/100\n",
            "115/115 [==============================] - 0s 2ms/step - loss: 129927897088.0000\n",
            "Epoch 35/100\n",
            "115/115 [==============================] - 0s 2ms/step - loss: 129564696576.0000\n",
            "Epoch 36/100\n",
            "115/115 [==============================] - 0s 3ms/step - loss: 129255579648.0000\n",
            "Epoch 37/100\n",
            "115/115 [==============================] - 0s 3ms/step - loss: 128972652544.0000\n",
            "Epoch 38/100\n",
            "115/115 [==============================] - 0s 3ms/step - loss: 128753016832.0000\n",
            "Epoch 39/100\n",
            "115/115 [==============================] - 0s 4ms/step - loss: 128532717568.0000\n",
            "Epoch 40/100\n",
            "115/115 [==============================] - 0s 3ms/step - loss: 128221503488.0000\n",
            "Epoch 41/100\n",
            "115/115 [==============================] - 0s 3ms/step - loss: 127949561856.0000\n",
            "Epoch 42/100\n",
            "115/115 [==============================] - 0s 4ms/step - loss: 127714615296.0000\n",
            "Epoch 43/100\n",
            "115/115 [==============================] - 0s 4ms/step - loss: 127484993536.0000\n",
            "Epoch 44/100\n",
            "115/115 [==============================] - 0s 3ms/step - loss: 127228821504.0000\n",
            "Epoch 45/100\n",
            "115/115 [==============================] - 0s 3ms/step - loss: 126985191424.0000\n",
            "Epoch 46/100\n",
            "115/115 [==============================] - 0s 3ms/step - loss: 126815461376.0000\n",
            "Epoch 47/100\n",
            "115/115 [==============================] - 0s 3ms/step - loss: 126562779136.0000\n",
            "Epoch 48/100\n",
            "115/115 [==============================] - 0s 3ms/step - loss: 126402437120.0000\n",
            "Epoch 49/100\n",
            "115/115 [==============================] - 0s 3ms/step - loss: 126156808192.0000\n",
            "Epoch 50/100\n",
            "115/115 [==============================] - 0s 4ms/step - loss: 125919690752.0000\n",
            "Epoch 51/100\n",
            "115/115 [==============================] - 0s 4ms/step - loss: 125688381440.0000\n",
            "Epoch 52/100\n",
            "115/115 [==============================] - 0s 3ms/step - loss: 125470040064.0000\n",
            "Epoch 53/100\n",
            "115/115 [==============================] - 0s 3ms/step - loss: 125270474752.0000\n",
            "Epoch 54/100\n",
            "115/115 [==============================] - 0s 4ms/step - loss: 125085499392.0000\n",
            "Epoch 55/100\n",
            "115/115 [==============================] - 0s 3ms/step - loss: 124892635136.0000\n",
            "Epoch 56/100\n",
            "115/115 [==============================] - 0s 3ms/step - loss: 124657917952.0000\n",
            "Epoch 57/100\n",
            "115/115 [==============================] - 0s 3ms/step - loss: 124523667456.0000\n",
            "Epoch 58/100\n",
            "115/115 [==============================] - 0s 3ms/step - loss: 124285779968.0000\n",
            "Epoch 59/100\n",
            "115/115 [==============================] - 0s 3ms/step - loss: 124129452032.0000\n",
            "Epoch 60/100\n",
            "115/115 [==============================] - 1s 4ms/step - loss: 123929214976.0000\n",
            "Epoch 61/100\n",
            "115/115 [==============================] - 0s 3ms/step - loss: 123766759424.0000\n",
            "Epoch 62/100\n",
            "115/115 [==============================] - 0s 2ms/step - loss: 123552849920.0000\n",
            "Epoch 63/100\n",
            "115/115 [==============================] - 0s 2ms/step - loss: 123357929472.0000\n",
            "Epoch 64/100\n",
            "115/115 [==============================] - 0s 2ms/step - loss: 123143716864.0000\n",
            "Epoch 65/100\n",
            "115/115 [==============================] - 0s 2ms/step - loss: 123032297472.0000\n",
            "Epoch 66/100\n",
            "115/115 [==============================] - 0s 2ms/step - loss: 122849419264.0000\n",
            "Epoch 67/100\n",
            "115/115 [==============================] - 0s 2ms/step - loss: 122658562048.0000\n",
            "Epoch 68/100\n",
            "115/115 [==============================] - 0s 2ms/step - loss: 122521583616.0000\n",
            "Epoch 69/100\n",
            "115/115 [==============================] - 0s 2ms/step - loss: 122294935552.0000\n",
            "Epoch 70/100\n",
            "115/115 [==============================] - 0s 2ms/step - loss: 122180780032.0000\n",
            "Epoch 71/100\n",
            "115/115 [==============================] - 0s 1ms/step - loss: 122035290112.0000\n",
            "Epoch 72/100\n",
            "115/115 [==============================] - 0s 1ms/step - loss: 121872818176.0000\n",
            "Epoch 73/100\n",
            "115/115 [==============================] - 0s 2ms/step - loss: 121731604480.0000\n",
            "Epoch 74/100\n",
            "115/115 [==============================] - 0s 2ms/step - loss: 121596698624.0000\n",
            "Epoch 75/100\n",
            "115/115 [==============================] - 0s 2ms/step - loss: 121411731456.0000\n",
            "Epoch 76/100\n",
            "115/115 [==============================] - 0s 1ms/step - loss: 121392947200.0000\n",
            "Epoch 77/100\n",
            "115/115 [==============================] - 0s 1ms/step - loss: 121165643776.0000\n",
            "Epoch 78/100\n",
            "115/115 [==============================] - 0s 2ms/step - loss: 121071501312.0000\n",
            "Epoch 79/100\n",
            "115/115 [==============================] - 0s 2ms/step - loss: 120902418432.0000\n",
            "Epoch 80/100\n",
            "115/115 [==============================] - 0s 1ms/step - loss: 120732696576.0000\n",
            "Epoch 81/100\n",
            "115/115 [==============================] - 0s 2ms/step - loss: 120732884992.0000\n",
            "Epoch 82/100\n",
            "115/115 [==============================] - 0s 2ms/step - loss: 120503156736.0000\n",
            "Epoch 83/100\n",
            "115/115 [==============================] - 0s 1ms/step - loss: 120434737152.0000\n",
            "Epoch 84/100\n",
            "115/115 [==============================] - 0s 1ms/step - loss: 120314290176.0000\n",
            "Epoch 85/100\n",
            "115/115 [==============================] - 0s 2ms/step - loss: 120189886464.0000\n",
            "Epoch 86/100\n",
            "115/115 [==============================] - 0s 2ms/step - loss: 120060174336.0000\n",
            "Epoch 87/100\n",
            "115/115 [==============================] - 0s 2ms/step - loss: 119979368448.0000\n",
            "Epoch 88/100\n",
            "115/115 [==============================] - 0s 2ms/step - loss: 119847526400.0000\n",
            "Epoch 89/100\n",
            "115/115 [==============================] - 0s 1ms/step - loss: 119731593216.0000\n",
            "Epoch 90/100\n",
            "115/115 [==============================] - 0s 2ms/step - loss: 119712366592.0000\n",
            "Epoch 91/100\n",
            "115/115 [==============================] - 0s 2ms/step - loss: 119573471232.0000\n",
            "Epoch 92/100\n",
            "115/115 [==============================] - 0s 2ms/step - loss: 119471456256.0000\n",
            "Epoch 93/100\n",
            "115/115 [==============================] - 0s 2ms/step - loss: 119350788096.0000\n",
            "Epoch 94/100\n",
            "115/115 [==============================] - 0s 2ms/step - loss: 119267278848.0000\n",
            "Epoch 95/100\n",
            "115/115 [==============================] - 0s 2ms/step - loss: 119193313280.0000\n",
            "Epoch 96/100\n",
            "115/115 [==============================] - 0s 2ms/step - loss: 119072579584.0000\n",
            "Epoch 97/100\n",
            "115/115 [==============================] - 0s 2ms/step - loss: 119084867584.0000\n",
            "Epoch 98/100\n",
            "115/115 [==============================] - 0s 1ms/step - loss: 118981599232.0000\n",
            "Epoch 99/100\n",
            "115/115 [==============================] - 0s 2ms/step - loss: 118858276864.0000\n",
            "Epoch 100/100\n",
            "115/115 [==============================] - 0s 2ms/step - loss: 118794215424.0000\n"
          ]
        },
        {
          "output_type": "execute_result",
          "data": {
            "text/plain": [
              "<keras.callbacks.History at 0x7f09ae4eed90>"
            ]
          },
          "metadata": {},
          "execution_count": 13
        }
      ],
      "source": [
        "ann.fit(X_train, y_train, batch_size = 32, epochs = 100)"
      ]
    },
    {
      "cell_type": "code",
      "execution_count": null,
      "metadata": {
        "colab": {
          "base_uri": "https://localhost:8080/"
        },
        "id": "2d8IoCCkeWGL",
        "outputId": "8a072ebc-16df-49bc-9207-7b8212bdcfe9"
      },
      "outputs": [
        {
          "output_type": "stream",
          "name": "stdout",
          "text": [
            "1/1 [==============================] - 0s 121ms/step\n",
            "[[728454.7]]\n"
          ]
        }
      ],
      "source": [
        "test_data = np.array([2014, 36, 4.0, 2.50, 2820, 8408])\n",
        "print(ann.predict(test_data.reshape(1,6), batch_size=1))"
      ]
    },
    {
      "cell_type": "code",
      "execution_count": null,
      "metadata": {
        "colab": {
          "base_uri": "https://localhost:8080/"
        },
        "id": "nIyEeQdRZwgs",
        "outputId": "edbda647-e574-4366-91f8-261a7c7d3740"
      },
      "outputs": [
        {
          "output_type": "stream",
          "name": "stdout",
          "text": [
            "29/29 [==============================] - 0s 1ms/step\n",
            "[[742999.3125  799000.     ]\n",
            " [540399.4375  404000.     ]\n",
            " [466971.6875  290256.     ]\n",
            " ...\n",
            " [405979.09375 560000.     ]\n",
            " [382863.0625  247200.     ]\n",
            " [970599.8125  670000.     ]]\n"
          ]
        }
      ],
      "source": [
        "y_pred = ann.predict(X_test)\n",
        "print(np.concatenate((y_pred.reshape(len(y_pred),1), np.array(y_test).reshape(len(np.array(y_test)),1)),1))"
      ]
    },
    {
      "cell_type": "code",
      "source": [
        "from joblib import dump, load\n",
        "dump(ann, 'model.joblib')"
      ],
      "metadata": {
        "colab": {
          "base_uri": "https://localhost:8080/"
        },
        "id": "EGnXvOUb7-_T",
        "outputId": "3f4d2db1-4506-4e2f-f06e-c2a8f82bc7d6"
      },
      "execution_count": null,
      "outputs": [
        {
          "output_type": "execute_result",
          "data": {
            "text/plain": [
              "['model.joblib']"
            ]
          },
          "metadata": {},
          "execution_count": 18
        }
      ]
    },
    {
      "cell_type": "code",
      "source": [
        "model_in = load('model.joblib')\n",
        "test_data = np.array([2014, 36, 4.0, 2.50, 2820, 8408])\n",
        "print(model_in.predict(test_data.reshape(1,6), batch_size=1))"
      ],
      "metadata": {
        "colab": {
          "base_uri": "https://localhost:8080/"
        },
        "id": "cGsEwQwh8TnR",
        "outputId": "d2329899-3202-4c07-d8dc-f9ddf794cc78"
      },
      "execution_count": null,
      "outputs": [
        {
          "output_type": "stream",
          "name": "stdout",
          "text": [
            "1/1 [==============================] - 0s 56ms/step\n",
            "[[728454.7]]\n"
          ]
        }
      ]
    }
  ],
  "metadata": {
    "colab": {
      "provenance": []
    },
    "kernelspec": {
      "display_name": "Python 3 (ipykernel)",
      "language": "python",
      "name": "python3"
    },
    "language_info": {
      "codemirror_mode": {
        "name": "ipython",
        "version": 3
      },
      "file_extension": ".py",
      "mimetype": "text/x-python",
      "name": "python",
      "nbconvert_exporter": "python",
      "pygments_lexer": "ipython3",
      "version": "3.9.12"
    }
  },
  "nbformat": 4,
  "nbformat_minor": 0
}